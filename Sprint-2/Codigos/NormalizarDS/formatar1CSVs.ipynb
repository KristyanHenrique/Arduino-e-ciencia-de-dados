{
 "cells": [
  {
   "cell_type": "code",
   "execution_count": 133,
   "id": "88e8eb9b",
   "metadata": {},
   "outputs": [],
   "source": [
    "import pandas as pd\n",
    "from statistics import mean\n",
    "from statistics import median\n",
    "import matplotlib.pyplot as plt\n",
    "import seaborn as sns"
   ]
  },
  {
   "cell_type": "code",
   "execution_count": 177,
   "id": "d9492750",
   "metadata": {},
   "outputs": [],
   "source": [
    "gbm = pd.read_csv(\"C:/Users/krist/OneDrive/Documents/GitHub/pratica-integrada-icd-e-idc-2023-1-g4-amrk/Sprint-1/CSV/formatados/gbm.csv\")\n",
    "gbp = pd.read_csv(\"C:/Users/krist/OneDrive/Documents/GitHub/pratica-integrada-icd-e-idc-2023-1-g4-amrk/Sprint-1/CSV/formatados/gbp.csv\")\n",
    "gp = pd.read_csv(\"C:/Users/krist/OneDrive/Documents/GitHub/pratica-integrada-icd-e-idc-2023-1-g4-amrk/Sprint-1/CSV/formatados/gp.csv\")\n",
    "pbm = pd.read_csv(\"C:/Users/krist/OneDrive/Documents/GitHub/pratica-integrada-icd-e-idc-2023-1-g4-amrk/Sprint-1/CSV/formatados/pbm.csv\")\n",
    "pbp = pd.read_csv(\"C:/Users/krist/OneDrive/Documents/GitHub/pratica-integrada-icd-e-idc-2023-1-g4-amrk/Sprint-1/CSV/formatados/pbp.csv\")\n",
    "pp1 = pd.read_csv(\"C:/Users/krist/OneDrive/Documents/GitHub/pratica-integrada-icd-e-idc-2023-1-g4-amrk/Sprint-1/CSV/formatados/pp1.csv\")\n",
    "pp2 = pd.read_csv(\"C:/Users/krist/OneDrive/Documents/GitHub/pratica-integrada-icd-e-idc-2023-1-g4-amrk/Sprint-1/CSV/formatados/pp2.csv\")"
   ]
  },
  {
   "cell_type": "code",
   "execution_count": 178,
   "id": "84130755",
   "metadata": {},
   "outputs": [],
   "source": [
    "def marcarSegundos(df):\n",
    "    lista = []\n",
    "    segundo = 0\n",
    "    minuto = 0\n",
    "    for index,row in df.iterrows():\n",
    "        if(index % 3 == 0):#esta primeira leva de dados usa um limitador de 3 leituras por segundo\n",
    "            segundo += 1\n",
    "        if(index % 180 == 0):\n",
    "            minuto += 1\n",
    "        lista.append([\n",
    "            row['leitura'],#valor da leitura\n",
    "            segundo,\n",
    "            minuto\n",
    "        ])\n",
    "    lista = pd.DataFrame(lista, columns=['leitura','segundo','minuto'])\n",
    "    return lista"
   ]
  },
  {
   "cell_type": "code",
   "execution_count": 179,
   "id": "bb2c7da6",
   "metadata": {},
   "outputs": [],
   "source": [
    "def intensidade(df):#se a media de vibrações no minuto for maior que a mediana classifica o minuto como verdadeiro para \"Intenso\"\n",
    "    mediana = statistics.median(df.groupby('minuto')['leitura'].mean())#mediana (das medias por minuto) para fugir dos outliers\n",
    "    condicao = df.groupby('minuto')['leitura'].mean() >= mediana  #condição \n",
    "    df.loc[df['minuto'].isin(condicao[condicao].index), \"intensidadeMinuto\"] = True #demarcando aqueles indices onde a condição é  positiva\n",
    "    df.fillna(False, inplace=True) # preenchendo os valores vazios\n",
    "    df.set_index(\"leitura\", inplace=True)\n",
    "    return df"
   ]
  },
  {
   "cell_type": "code",
   "execution_count": 180,
   "id": "e6f29acb",
   "metadata": {},
   "outputs": [],
   "source": [
    "gbm = marcarSegundos(gbm)\n",
    "gbp = marcarSegundos(gbp)\n",
    "gp = marcarSegundos(gp)\n",
    "pbm = marcarSegundos(pbm)\n",
    "pbp = marcarSegundos(pbp)\n",
    "pp1 = marcarSegundos(pp1)\n",
    "pp2 = marcarSegundos(pp2)"
   ]
  },
  {
   "cell_type": "code",
   "execution_count": 181,
   "id": "6eeb9e3f",
   "metadata": {},
   "outputs": [],
   "source": [
    "gbm = intensidade(gbm)\n",
    "gbp = intensidade(gbp)\n",
    "gp = intensidade(gp)\n",
    "pbm = intensidade(pbm)\n",
    "pbp = intensidade(pbp)\n",
    "pp1 = intensidade(pp1)\n",
    "pp2 = intensidade(pp2)"
   ]
  },
  {
   "cell_type": "code",
   "execution_count": 182,
   "id": "1b6b4541",
   "metadata": {},
   "outputs": [],
   "source": [
    "gbm.to_csv(\"C:/Users/krist/OneDrive/Documents/GitHub/pratica-integrada-icd-e-idc-2023-1-g4-amrk/Sprint-2/CSV/gen1/gbm.csv\")\n",
    "gbp.to_csv(\"C:/Users/krist/OneDrive/Documents/GitHub/pratica-integrada-icd-e-idc-2023-1-g4-amrk/Sprint-2/CSV/gen1/gbp.csv\")\n",
    "gp.to_csv(\"C:/Users/krist/OneDrive/Documents/GitHub/pratica-integrada-icd-e-idc-2023-1-g4-amrk/Sprint-2/CSV/gen1/gp.csv\")\n",
    "pbm.to_csv(\"C:/Users/krist/OneDrive/Documents/GitHub/pratica-integrada-icd-e-idc-2023-1-g4-amrk/Sprint-2/CSV/gen1/pbm.csv\")\n",
    "pbp.to_csv(\"C:/Users/krist/OneDrive/Documents/GitHub/pratica-integrada-icd-e-idc-2023-1-g4-amrk/Sprint-2/CSV/gen1/pbp.csv\")\n",
    "pp1.to_csv(\"C:/Users/krist/OneDrive/Documents/GitHub/pratica-integrada-icd-e-idc-2023-1-g4-amrk/Sprint-2/CSV/gen1/pp1.csv\")\n",
    "pp2.to_csv(\"C:/Users/krist/OneDrive/Documents/GitHub/pratica-integrada-icd-e-idc-2023-1-g4-amrk/Sprint-2/CSV/gen1/pp2.csv\")"
   ]
  }
 ],
 "metadata": {
  "kernelspec": {
   "display_name": "Python 3 (ipykernel)",
   "language": "python",
   "name": "python3"
  },
  "language_info": {
   "codemirror_mode": {
    "name": "ipython",
    "version": 3
   },
   "file_extension": ".py",
   "mimetype": "text/x-python",
   "name": "python",
   "nbconvert_exporter": "python",
   "pygments_lexer": "ipython3",
   "version": "3.10.10"
  }
 },
 "nbformat": 4,
 "nbformat_minor": 5
}
