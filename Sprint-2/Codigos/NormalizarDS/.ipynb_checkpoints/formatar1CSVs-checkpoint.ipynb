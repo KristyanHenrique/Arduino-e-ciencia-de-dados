{
 "cells": [
  {
   "cell_type": "code",
   "execution_count": 133,
   "id": "88e8eb9b",
   "metadata": {},
   "outputs": [],
   "source": [
    "import pandas as pd\n",
    "from statistics import mean\n",
    "from statistics import median\n",
    "import matplotlib.pyplot as plt\n",
    "import seaborn as sns"
   ]
  },
  {
   "cell_type": "code",
   "execution_count": 168,
   "id": "d9492750",
   "metadata": {},
   "outputs": [],
   "source": [
    "gbm = pd.read_csv(\"C:/Users/krist/OneDrive/Documents/GitHub/pratica-integrada-icd-e-idc-2023-1-g4-amrk/Sprint-1/CSV/formatados/gbm.csv\")\n",
    "gbp = pd.read_csv(\"C:/Users/krist/OneDrive/Documents/GitHub/pratica-integrada-icd-e-idc-2023-1-g4-amrk/Sprint-1/CSV/formatados/gbp.csv\")\n",
    "gp = pd.read_csv(\"C:/Users/krist/OneDrive/Documents/GitHub/pratica-integrada-icd-e-idc-2023-1-g4-amrk/Sprint-1/CSV/formatados/gp.csv\")\n",
    "pbm = pd.read_csv(\"C:/Users/krist/OneDrive/Documents/GitHub/pratica-integrada-icd-e-idc-2023-1-g4-amrk/Sprint-1/CSV/formatados/pbm.csv\")\n",
    "pbp = pd.read_csv(\"C:/Users/krist/OneDrive/Documents/GitHub/pratica-integrada-icd-e-idc-2023-1-g4-amrk/Sprint-1/CSV/formatados/pbp.csv\")\n",
    "pp1 = pd.read_csv(\"C:/Users/krist/OneDrive/Documents/GitHub/pratica-integrada-icd-e-idc-2023-1-g4-amrk/Sprint-1/CSV/formatados/pp1.csv\")\n",
    "pp2 = pd.read_csv(\"C:/Users/krist/OneDrive/Documents/GitHub/pratica-integrada-icd-e-idc-2023-1-g4-amrk/Sprint-1/CSV/formatados/pp2.csv\")"
   ]
  },
  {
   "cell_type": "code",
   "execution_count": 169,
   "id": "f1c38bcc",
   "metadata": {},
   "outputs": [],
   "source": [
    "def marcarSegundos(df):\n",
    "    lista = []\n",
    "    segundo = 0\n",
    "    minuto = 0\n",
    "    for index,row in df.iterrows():\n",
    "        if(index % 3 == 0):#esta primeira leva de dados usa um limitador de 3 leituras por segundo\n",
    "            segundo += 1\n",
    "        if(index % 180 == 0):\n",
    "            minuto += 1\n",
    "        lista.append([\n",
    "            row['leitura'],#valor da leitura\n",
    "            segundo,\n",
    "            minuto\n",
    "        ])\n",
    "    lista = pd.DataFrame(lista, columns=['leitura','segundo','minuto'])\n",
    "    return lista"
   ]
  },
  {
   "cell_type": "code",
   "execution_count": 170,
   "id": "0958020b",
   "metadata": {},
   "outputs": [],
   "source": [
    "def intensidade(df):#se a media de vibrações no minuto for maior que a mediana classifica o minuto como verdadeiro para \"Intenso\"\n",
    "    mediana = statistics.median(df.groupby('minuto')['leitura'].mean())#mediana (das medias por minuto) para fugir dos outliers\n",
    "    condicao = df.groupby('minuto')['leitura'].mean() >= mediana\n",
    "    df.loc[df['minuto'].isin(condicao[condicao].index), \"intensidadeMinuto\"] = True\n",
    "    df.fillna(False, inplace=True)\n",
    "    df.set_index(\"leitura\", inplace=True)\n",
    "    return df"
   ]
  },
  {
   "cell_type": "code",
   "execution_count": 171,
   "id": "8b426ac6",
   "metadata": {},
   "outputs": [
    {
     "ename": "KeyError",
     "evalue": "\"None of ['id'] are in the columns\"",
     "output_type": "error",
     "traceback": [
      "\u001b[1;31m---------------------------------------------------------------------------\u001b[0m",
      "\u001b[1;31mKeyError\u001b[0m                                  Traceback (most recent call last)",
      "Cell \u001b[1;32mIn[171], line 2\u001b[0m\n\u001b[0;32m      1\u001b[0m gbm \u001b[38;5;241m=\u001b[39m marcarSegundos(gbm)\n\u001b[1;32m----> 2\u001b[0m gbm \u001b[38;5;241m=\u001b[39m \u001b[43mintensidade\u001b[49m\u001b[43m(\u001b[49m\u001b[43mgbm\u001b[49m\u001b[43m)\u001b[49m\n",
      "Cell \u001b[1;32mIn[170], line 6\u001b[0m, in \u001b[0;36mintensidade\u001b[1;34m(df)\u001b[0m\n\u001b[0;32m      4\u001b[0m df\u001b[38;5;241m.\u001b[39mloc[df[\u001b[38;5;124m'\u001b[39m\u001b[38;5;124mminuto\u001b[39m\u001b[38;5;124m'\u001b[39m]\u001b[38;5;241m.\u001b[39misin(condicao[condicao]\u001b[38;5;241m.\u001b[39mindex), \u001b[38;5;124m\"\u001b[39m\u001b[38;5;124mintensidadeMinuto\u001b[39m\u001b[38;5;124m\"\u001b[39m] \u001b[38;5;241m=\u001b[39m \u001b[38;5;28;01mTrue\u001b[39;00m\n\u001b[0;32m      5\u001b[0m df\u001b[38;5;241m.\u001b[39mfillna(\u001b[38;5;28;01mFalse\u001b[39;00m, inplace\u001b[38;5;241m=\u001b[39m\u001b[38;5;28;01mTrue\u001b[39;00m)\n\u001b[1;32m----> 6\u001b[0m \u001b[43mdf\u001b[49m\u001b[38;5;241;43m.\u001b[39;49m\u001b[43mset_index\u001b[49m\u001b[43m(\u001b[49m\u001b[38;5;124;43m\"\u001b[39;49m\u001b[38;5;124;43mid\u001b[39;49m\u001b[38;5;124;43m\"\u001b[39;49m\u001b[43m,\u001b[49m\u001b[43m \u001b[49m\u001b[43minplace\u001b[49m\u001b[38;5;241;43m=\u001b[39;49m\u001b[38;5;28;43;01mTrue\u001b[39;49;00m\u001b[43m)\u001b[49m\n\u001b[0;32m      7\u001b[0m \u001b[38;5;28;01mreturn\u001b[39;00m df\n",
      "File \u001b[1;32mD:\\MiniConda\\lib\\site-packages\\pandas\\core\\frame.py:5859\u001b[0m, in \u001b[0;36mDataFrame.set_index\u001b[1;34m(self, keys, drop, append, inplace, verify_integrity)\u001b[0m\n\u001b[0;32m   5856\u001b[0m                 missing\u001b[38;5;241m.\u001b[39mappend(col)\n\u001b[0;32m   5858\u001b[0m \u001b[38;5;28;01mif\u001b[39;00m missing:\n\u001b[1;32m-> 5859\u001b[0m     \u001b[38;5;28;01mraise\u001b[39;00m \u001b[38;5;167;01mKeyError\u001b[39;00m(\u001b[38;5;124mf\u001b[39m\u001b[38;5;124m\"\u001b[39m\u001b[38;5;124mNone of \u001b[39m\u001b[38;5;132;01m{\u001b[39;00mmissing\u001b[38;5;132;01m}\u001b[39;00m\u001b[38;5;124m are in the columns\u001b[39m\u001b[38;5;124m\"\u001b[39m)\n\u001b[0;32m   5861\u001b[0m \u001b[38;5;28;01mif\u001b[39;00m inplace:\n\u001b[0;32m   5862\u001b[0m     frame \u001b[38;5;241m=\u001b[39m \u001b[38;5;28mself\u001b[39m\n",
      "\u001b[1;31mKeyError\u001b[0m: \"None of ['id'] are in the columns\""
     ]
    }
   ],
   "source": [
    "gbm = marcarSegundos(gbm)\n",
    "gbm = intensidade(gbm)"
   ]
  },
  {
   "cell_type": "code",
   "execution_count": 172,
   "id": "7b3eda5a",
   "metadata": {},
   "outputs": [
    {
     "data": {
      "text/html": [
       "<div>\n",
       "<style scoped>\n",
       "    .dataframe tbody tr th:only-of-type {\n",
       "        vertical-align: middle;\n",
       "    }\n",
       "\n",
       "    .dataframe tbody tr th {\n",
       "        vertical-align: top;\n",
       "    }\n",
       "\n",
       "    .dataframe thead th {\n",
       "        text-align: right;\n",
       "    }\n",
       "</style>\n",
       "<table border=\"1\" class=\"dataframe\">\n",
       "  <thead>\n",
       "    <tr style=\"text-align: right;\">\n",
       "      <th></th>\n",
       "      <th>leitura</th>\n",
       "      <th>segundo</th>\n",
       "      <th>minuto</th>\n",
       "      <th>intensidadeMinuto</th>\n",
       "    </tr>\n",
       "  </thead>\n",
       "  <tbody>\n",
       "    <tr>\n",
       "      <th>0</th>\n",
       "      <td>0</td>\n",
       "      <td>1</td>\n",
       "      <td>1</td>\n",
       "      <td>False</td>\n",
       "    </tr>\n",
       "    <tr>\n",
       "      <th>1</th>\n",
       "      <td>0</td>\n",
       "      <td>1</td>\n",
       "      <td>1</td>\n",
       "      <td>False</td>\n",
       "    </tr>\n",
       "    <tr>\n",
       "      <th>2</th>\n",
       "      <td>0</td>\n",
       "      <td>1</td>\n",
       "      <td>1</td>\n",
       "      <td>False</td>\n",
       "    </tr>\n",
       "    <tr>\n",
       "      <th>3</th>\n",
       "      <td>0</td>\n",
       "      <td>2</td>\n",
       "      <td>1</td>\n",
       "      <td>False</td>\n",
       "    </tr>\n",
       "    <tr>\n",
       "      <th>4</th>\n",
       "      <td>0</td>\n",
       "      <td>2</td>\n",
       "      <td>1</td>\n",
       "      <td>False</td>\n",
       "    </tr>\n",
       "    <tr>\n",
       "      <th>...</th>\n",
       "      <td>...</td>\n",
       "      <td>...</td>\n",
       "      <td>...</td>\n",
       "      <td>...</td>\n",
       "    </tr>\n",
       "    <tr>\n",
       "      <th>2098</th>\n",
       "      <td>0</td>\n",
       "      <td>700</td>\n",
       "      <td>12</td>\n",
       "      <td>False</td>\n",
       "    </tr>\n",
       "    <tr>\n",
       "      <th>2099</th>\n",
       "      <td>0</td>\n",
       "      <td>700</td>\n",
       "      <td>12</td>\n",
       "      <td>False</td>\n",
       "    </tr>\n",
       "    <tr>\n",
       "      <th>2100</th>\n",
       "      <td>1</td>\n",
       "      <td>701</td>\n",
       "      <td>12</td>\n",
       "      <td>False</td>\n",
       "    </tr>\n",
       "    <tr>\n",
       "      <th>2101</th>\n",
       "      <td>1</td>\n",
       "      <td>701</td>\n",
       "      <td>12</td>\n",
       "      <td>False</td>\n",
       "    </tr>\n",
       "    <tr>\n",
       "      <th>2102</th>\n",
       "      <td>0</td>\n",
       "      <td>701</td>\n",
       "      <td>12</td>\n",
       "      <td>False</td>\n",
       "    </tr>\n",
       "  </tbody>\n",
       "</table>\n",
       "<p>2103 rows × 4 columns</p>\n",
       "</div>"
      ],
      "text/plain": [
       "      leitura  segundo  minuto  intensidadeMinuto\n",
       "0           0        1       1              False\n",
       "1           0        1       1              False\n",
       "2           0        1       1              False\n",
       "3           0        2       1              False\n",
       "4           0        2       1              False\n",
       "...       ...      ...     ...                ...\n",
       "2098        0      700      12              False\n",
       "2099        0      700      12              False\n",
       "2100        1      701      12              False\n",
       "2101        1      701      12              False\n",
       "2102        0      701      12              False\n",
       "\n",
       "[2103 rows x 4 columns]"
      ]
     },
     "execution_count": 172,
     "metadata": {},
     "output_type": "execute_result"
    }
   ],
   "source": [
    "gbm"
   ]
  }
 ],
 "metadata": {
  "kernelspec": {
   "display_name": "Python 3 (ipykernel)",
   "language": "python",
   "name": "python3"
  },
  "language_info": {
   "codemirror_mode": {
    "name": "ipython",
    "version": 3
   },
   "file_extension": ".py",
   "mimetype": "text/x-python",
   "name": "python",
   "nbconvert_exporter": "python",
   "pygments_lexer": "ipython3",
   "version": "3.10.10"
  }
 },
 "nbformat": 4,
 "nbformat_minor": 5
}
