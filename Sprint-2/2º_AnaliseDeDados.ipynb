{
  "nbformat": 4,
  "nbformat_minor": 0,
  "metadata": {
    "colab": {
      "provenance": []
    },
    "kernelspec": {
      "name": "python3",
      "display_name": "Python 3"
    },
    "language_info": {
      "name": "python"
    }
  },
  "cells": [
    {
      "cell_type": "code",
      "source": [
        "# Essa análise consiste no total de vezes em que ocorreu vibração e em quais segundos e minutos ela foi mais intensa."
      ],
      "metadata": {
        "id": "A0aNkYmwC90Q"
      },
      "execution_count": null,
      "outputs": []
    },
    {
      "cell_type": "code",
      "source": [
        "import pandas as pd\n",
        "\n",
        "# Gasolina banco do motorista\n",
        "\n",
        "# Carregar o arquivo csv em um DataFrame do pandas\n",
        "gbm = pd.read_csv('gbm (1).csv')\n",
        "\n",
        "# Calcular a média de vibração por minuto\n",
        "gbm['media_vibracao'] = gbm.mean(axis=1)\n",
        "\n",
        "# Calcular a mediana das médias de vibração por minuto\n",
        "kpi_mediana = gbm['media_vibracao'].median()\n",
        "\n",
        "# Coluna para marcar os minutos mais intensos\n",
        "gbm['intenso'] = gbm['media_vibracao'] > kpi_mediana\n",
        "\n",
        "# Ocorrência de vibração e os segundos e minutos mais intensos\n",
        "ocorrencias = gbm['intenso'].sum()\n",
        "minutos_intensos = gbm[gbm['intenso']]\n",
        "\n",
        "# Número de ocorrências de vibração\n",
        "print(\"Número de ocorrências de vibração:\", ocorrencias)\n",
        "\n",
        "# Segundos e minutos mais intensos\n",
        "print(\"Segundos e minutos mais intensos:\")\n",
        "print(minutos_intensos)"
      ],
      "metadata": {
        "colab": {
          "base_uri": "https://localhost:8080/"
        },
        "id": "Q32uRfvGcuYM",
        "outputId": "467fdcc4-7b1c-432f-b964-abbbbdf0486f"
      },
      "execution_count": null,
      "outputs": [
        {
          "output_type": "stream",
          "name": "stdout",
          "text": [
            "Número de ocorrências de vibração: 1049\n",
            "Segundos e minutos mais intensos:\n",
            "      leitura  segundo  minuto  intensidadeMinuto  media_vibracao  intenso\n",
            "1053        1      352       6               True           90.00     True\n",
            "1055        1      352       6               True           90.00     True\n",
            "1056        0      353       6               True           90.00     True\n",
            "1057        1      353       6               True           90.25     True\n",
            "1058        1      353       6               True           90.25     True\n",
            "...       ...      ...     ...                ...             ...      ...\n",
            "2098        0      700      12              False          178.00     True\n",
            "2099        0      700      12              False          178.00     True\n",
            "2100        1      701      12              False          178.50     True\n",
            "2101        1      701      12              False          178.50     True\n",
            "2102        0      701      12              False          178.25     True\n",
            "\n",
            "[1049 rows x 6 columns]\n"
          ]
        }
      ]
    },
    {
      "cell_type": "code",
      "source": [
        "import pandas as pd\n",
        "\n",
        "# Gasolina banco do passageiro\n",
        "\n",
        "# Carregar o arquivo csv em um DataFrame do pandas\n",
        "gbp = pd.read_csv('gbp (1).csv')\n",
        "\n",
        "# Calcular a média de vibração por minuto\n",
        "gbp['media_vibracao'] = gbp.mean(axis=1)\n",
        "\n",
        "# Calcular a mediana das médias de vibração por minuto\n",
        "kpi_mediana = gbp['media_vibracao'].median()\n",
        "\n",
        "# Coluna para marcar os minutos mais intensos\n",
        "gbp['intenso'] = gbp['media_vibracao'] > kpi_mediana\n",
        "\n",
        "# Ocorrência de vibração e os segundos e minutos mais intensos\n",
        "ocorrencias = gbp['intenso'].sum()\n",
        "minutos_intensos = gbp[gbp['intenso']]\n",
        "\n",
        "# Número de ocorrências de vibração\n",
        "print(\"Número de ocorrências de vibração:\", ocorrencias)\n",
        "\n",
        "# Segundos e minutos mais intensos\n",
        "print(\"Segundos e minutos mais intensos:\")\n",
        "print(minutos_intensos)"
      ],
      "metadata": {
        "colab": {
          "base_uri": "https://localhost:8080/"
        },
        "id": "IDLx_TLusqzu",
        "outputId": "c78d663d-41b5-4c12-f212-a65fb54e19ed"
      },
      "execution_count": null,
      "outputs": [
        {
          "output_type": "stream",
          "name": "stdout",
          "text": [
            "Número de ocorrências de vibração: 1005\n",
            "Segundos e minutos mais intensos:\n",
            "      leitura  segundo  minuto  intensidadeMinuto  media_vibracao  intenso\n",
            "1010        1      337       6               True           86.25     True\n",
            "1011        0      338       6               True           86.25     True\n",
            "1012        1      338       6               True           86.50     True\n",
            "1013        1      338       6               True           86.50     True\n",
            "1014        1      339       6               True           86.75     True\n",
            "...       ...      ...     ...                ...             ...      ...\n",
            "2010        1      671      12               True          171.25     True\n",
            "2011        1      671      12               True          171.25     True\n",
            "2012        0      671      12               True          171.00     True\n",
            "2013        1      672      12               True          171.50     True\n",
            "2014        1      672      12               True          171.50     True\n",
            "\n",
            "[1005 rows x 6 columns]\n"
          ]
        }
      ]
    },
    {
      "cell_type": "code",
      "source": [
        "import pandas as pd\n",
        "\n",
        "# Gasolina painel\n",
        "\n",
        "# Carregar o arquivo csv em um DataFrame do pandas\n",
        "gp = pd.read_csv('gp (1).csv')\n",
        "\n",
        "# Calcular a média de vibração por minuto\n",
        "gp['media_vibracao'] = gp.mean(axis=1)\n",
        "\n",
        "# Calcular a mediana das médias de vibração por minuto\n",
        "kpi_mediana = gp['media_vibracao'].median()\n",
        "\n",
        "# Coluna para marcar os minutos mais intensos\n",
        "gp['intenso'] = gp['media_vibracao'] > kpi_mediana\n",
        "\n",
        "# Ocorrência de vibração e os segundos e minutos mais intensos\n",
        "ocorrencias = gp['intenso'].sum()\n",
        "minutos_intensos = gp[gp['intenso']]\n",
        "\n",
        "# Número de ocorrências de vibração\n",
        "print(\"Número de ocorrências de vibração:\", ocorrencias)\n",
        "\n",
        "# Segundos e minutos mais intensos\n",
        "print(\"Segundos e minutos mais intensos:\")\n",
        "print(minutos_intensos)"
      ],
      "metadata": {
        "colab": {
          "base_uri": "https://localhost:8080/"
        },
        "id": "upFIR6y-tKml",
        "outputId": "0508e22b-13e8-43d2-c7ba-d823a54bd5d4"
      },
      "execution_count": null,
      "outputs": [
        {
          "output_type": "stream",
          "name": "stdout",
          "text": [
            "Número de ocorrências de vibração: 1056\n",
            "Segundos e minutos mais intensos:\n",
            "      leitura  segundo  minuto  intensidadeMinuto  media_vibracao  intenso\n",
            "1059        1      354       6               True           90.50     True\n",
            "1060        1      354       6               True           90.50     True\n",
            "1061        1      354       6               True           90.50     True\n",
            "1062        1      355       6               True           90.75     True\n",
            "1063        0      355       6               True           90.50     True\n",
            "...       ...      ...     ...                ...             ...      ...\n",
            "2110        1      704      12               True          179.50     True\n",
            "2111        1      704      12               True          179.50     True\n",
            "2112        1      705      12               True          179.75     True\n",
            "2113        1      705      12               True          179.75     True\n",
            "2114        1      705      12               True          179.75     True\n",
            "\n",
            "[1056 rows x 6 columns]\n"
          ]
        }
      ]
    },
    {
      "cell_type": "code",
      "source": [
        "import pandas as pd\n",
        "\n",
        "# Podium banco do motorista\n",
        "\n",
        "# Carregar o arquivo csv em um DataFrame do pandas\n",
        "pbm = pd.read_csv('pbm (1).csv')\n",
        "\n",
        "# Calcular a média de vibração por minuto\n",
        "pbm['media_vibracao'] = pbm.mean(axis=1)\n",
        "\n",
        "# Calcular a mediana das médias de vibração por minuto\n",
        "kpi_mediana = pbm['media_vibracao'].median()\n",
        "\n",
        "# Coluna para marcar os minutos mais intensos\n",
        "pbm['intenso'] = pbm['media_vibracao'] > kpi_mediana\n",
        "\n",
        "# Ocorrência de vibração e os segundos e minutos mais intensos\n",
        "ocorrencias = pbm['intenso'].sum()\n",
        "minutos_intensos = pbm[pbm['intenso']]\n",
        "\n",
        "# Número de ocorrências de vibração\n",
        "print(\"Número de ocorrências de vibração:\", ocorrencias)\n",
        "\n",
        "# Segundos e minutos mais intensos\n",
        "print(\"Segundos e minutos mais intensos:\")\n",
        "print(minutos_intensos)"
      ],
      "metadata": {
        "colab": {
          "base_uri": "https://localhost:8080/"
        },
        "id": "dBANxcVbuIfJ",
        "outputId": "13779267-761e-46d7-8ddb-74ca287ae94e"
      },
      "execution_count": null,
      "outputs": [
        {
          "output_type": "stream",
          "name": "stdout",
          "text": [
            "Número de ocorrências de vibração: 997\n",
            "Segundos e minutos mais intensos:\n",
            "      leitura  segundo  minuto  intensidadeMinuto  media_vibracao  intenso\n",
            "1002        1      335       6              False           85.50     True\n",
            "1003        1      335       6              False           85.50     True\n",
            "1005        1      336       6              False           85.75     True\n",
            "1006        1      336       6              False           85.75     True\n",
            "1007        1      336       6              False           85.75     True\n",
            "...       ...      ...     ...                ...             ...      ...\n",
            "1995        0      666      12              False          169.50     True\n",
            "1996        1      666      12              False          169.75     True\n",
            "1997        1      666      12              False          169.75     True\n",
            "1998        0      667      12              False          169.75     True\n",
            "1999        1      667      12              False          170.00     True\n",
            "\n",
            "[997 rows x 6 columns]\n"
          ]
        }
      ]
    },
    {
      "cell_type": "code",
      "source": [
        "import pandas as pd\n",
        "\n",
        "# Podium banco do passageiro\n",
        "\n",
        "# Carregar o arquivo csv em um DataFrame do pandas\n",
        "pbp = pd.read_csv('pbp (1).csv')\n",
        "\n",
        "# Calcular a média de vibração por minuto\n",
        "pbp['media_vibracao'] = pbp.mean(axis=1)\n",
        "\n",
        "# Calcular a mediana das médias de vibração por minuto\n",
        "kpi_mediana = pbp['media_vibracao'].median()\n",
        "\n",
        "# Coluna para marcar os minutos mais intensos\n",
        "pbp['intenso'] = pbp['media_vibracao'] > kpi_mediana\n",
        "\n",
        "# Ocorrência de vibração e os segundos e minutos mais intensos\n",
        "ocorrencias = pbp['intenso'].sum()\n",
        "minutos_intensos = pbp[pbp['intenso']]\n",
        "\n",
        "# Número de ocorrências de vibração\n",
        "print(\"Número de ocorrências de vibração:\", ocorrencias)\n",
        "\n",
        "# Segundos e minutos mais intensos\n",
        "print(\"Segundos e minutos mais intensos:\")\n",
        "print(minutos_intensos)"
      ],
      "metadata": {
        "colab": {
          "base_uri": "https://localhost:8080/"
        },
        "id": "WSMgXOv9T1FH",
        "outputId": "a6968841-85f4-4bdc-e0c0-29f0ca1068c1"
      },
      "execution_count": null,
      "outputs": [
        {
          "output_type": "stream",
          "name": "stdout",
          "text": [
            "Número de ocorrências de vibração: 777\n",
            "Segundos e minutos mais intensos:\n",
            "      leitura  segundo  minuto  intensidadeMinuto  media_vibracao  intenso\n",
            "778         1      260       5              False           66.50     True\n",
            "779         1      260       5              False           66.50     True\n",
            "780         1      261       5              False           66.75     True\n",
            "781         0      261       5              False           66.50     True\n",
            "782         1      261       5              False           66.75     True\n",
            "...       ...      ...     ...                ...             ...      ...\n",
            "1550        1      517       9               True          132.00     True\n",
            "1551        1      518       9               True          132.25     True\n",
            "1552        1      518       9               True          132.25     True\n",
            "1553        1      518       9               True          132.25     True\n",
            "1554        0      519       9               True          132.25     True\n",
            "\n",
            "[777 rows x 6 columns]\n"
          ]
        }
      ]
    },
    {
      "cell_type": "code",
      "source": [
        "import pandas as pd\n",
        "\n",
        "# Podium painel 1\n",
        "\n",
        "# Carregar o arquivo csv em um DataFrame do pandas\n",
        "pp1 = pd.read_csv('pp1 (1).csv')\n",
        "\n",
        "# Calcular a média de vibração por minuto\n",
        "pp1['media_vibracao'] = pp1.mean(axis=1)\n",
        "\n",
        "# Calcular a mediana das médias de vibração por minuto\n",
        "kpi_mediana = pp1['media_vibracao'].median()\n",
        "\n",
        "# Coluna para marcar os minutos mais intensos\n",
        "pp1['intenso'] = pp1['media_vibracao'] > kpi_mediana\n",
        "\n",
        "# Ocorrência de vibração e os segundos e minutos mais intensos\n",
        "ocorrencias = pp1['intenso'].sum()\n",
        "minutos_intensos = pp1[pp1['intenso']]\n",
        "\n",
        "# Número de ocorrências de vibração\n",
        "print(\"Número de ocorrências de vibração:\", ocorrencias)\n",
        "\n",
        "# Segundos e minutos mais intensos\n",
        "print(\"Segundos e minutos mais intensos:\")\n",
        "print(minutos_intensos)"
      ],
      "metadata": {
        "colab": {
          "base_uri": "https://localhost:8080/"
        },
        "id": "loakQxgGucrx",
        "outputId": "a859cbc8-0b73-45b7-f151-2c9a6c135586"
      },
      "execution_count": null,
      "outputs": [
        {
          "output_type": "stream",
          "name": "stdout",
          "text": [
            "Número de ocorrências de vibração: 1100\n",
            "Segundos e minutos mais intensos:\n",
            "      leitura  segundo  minuto  intensidadeMinuto  media_vibracao  intenso\n",
            "1105        1      369       7               True           94.50     True\n",
            "1106        1      369       7               True           94.50     True\n",
            "1107        1      370       7               True           94.75     True\n",
            "1108        1      370       7               True           94.75     True\n",
            "1109        0      370       7               True           94.50     True\n",
            "...       ...      ...     ...                ...             ...      ...\n",
            "2200        1      734      13               True          187.25     True\n",
            "2201        1      734      13               True          187.25     True\n",
            "2202        1      735      13               True          187.50     True\n",
            "2203        1      735      13               True          187.50     True\n",
            "2204        1      735      13               True          187.50     True\n",
            "\n",
            "[1100 rows x 6 columns]\n"
          ]
        }
      ]
    },
    {
      "cell_type": "code",
      "source": [
        "import pandas as pd\n",
        "\n",
        "# Podium painel 2\n",
        "\n",
        "# Carregar o arquivo csv em um DataFrame do pandas\n",
        "pp2 = pd.read_csv('pp2 (1).csv')\n",
        "\n",
        "# Calcular a média de vibração por minuto\n",
        "pp2['media_vibracao'] = pp2.mean(axis=1)\n",
        "\n",
        "# Calcular a mediana das médias de vibração por minuto\n",
        "kpi_mediana = pp2['media_vibracao'].median()\n",
        "\n",
        "# Coluna para marcar os minutos mais intensos\n",
        "pp2['intenso'] = pp2['media_vibracao'] > kpi_mediana\n",
        "\n",
        "# Ocorrência de vibração e os segundos e minutos mais intensos\n",
        "ocorrencias = pp2['intenso'].sum()\n",
        "minutos_intensos = pp2[pp2['intenso']]\n",
        "\n",
        "# Número de ocorrências de vibração\n",
        "print(\"Número de ocorrências de vibração:\", ocorrencias)\n",
        "\n",
        "# Segundos e minutos mais intensos\n",
        "print(\"Segundos e minutos mais intensos:\")\n",
        "print(minutos_intensos)"
      ],
      "metadata": {
        "colab": {
          "base_uri": "https://localhost:8080/"
        },
        "id": "WtS_VGslurQA",
        "outputId": "2d63170f-7a4d-4d4f-e900-1fb8ba1e7c51"
      },
      "execution_count": null,
      "outputs": [
        {
          "output_type": "stream",
          "name": "stdout",
          "text": [
            "Número de ocorrências de vibração: 1198\n",
            "Segundos e minutos mais intensos:\n",
            "      leitura  segundo  minuto  intensidadeMinuto  media_vibracao  intenso\n",
            "1197        1      400       7              False          102.00     True\n",
            "1198        1      400       7              False          102.00     True\n",
            "1200        1      401       7              False          102.25     True\n",
            "1201        0      401       7              False          102.00     True\n",
            "1202        0      401       7              False          102.00     True\n",
            "...       ...      ...     ...                ...             ...      ...\n",
            "2391        1      798      14               True          203.50     True\n",
            "2392        1      798      14               True          203.50     True\n",
            "2393        0      798      14               True          203.25     True\n",
            "2394        1      799      14               True          203.75     True\n",
            "2395        0      799      14               True          203.50     True\n",
            "\n",
            "[1198 rows x 6 columns]\n"
          ]
        }
      ]
    }
  ]
}