{
  "nbformat": 4,
  "nbformat_minor": 0,
  "metadata": {
    "colab": {
      "provenance": []
    },
    "kernelspec": {
      "name": "python3",
      "display_name": "Python 3"
    },
    "language_info": {
      "name": "python"
    }
  },
  "cells": [
    {
      "cell_type": "code",
      "source": [
        "import pandas as pd\n",
        "\n",
        "\n",
        "#Gasolina banco motorista\n",
        "gasolinaBancoMotorista = pd.read_csv(\"gbm.csv\")\n",
        "\n",
        "\n",
        "print(gasolinaBancoMotorista)\n",
        "\n",
        "\n",
        "# Ler o arquivo CSV\n",
        "gasolinaBancoMotorista = pd.read_csv(\"gbm.csv\")\n",
        "\n",
        "\n",
        "# Inicializar as contagens de zeros e uns\n",
        "contagem_zeros = 0\n",
        "contagem_uns = 0\n",
        "\n",
        "\n",
        "# Iterar sobre todas as linhas do DataFrame\n",
        "for linha in gasolinaBancoMotorista.values:\n",
        "    contagem_zeros += linha.tolist().count(0)\n",
        "    contagem_uns += linha.tolist().count(1)\n",
        "\n",
        "\n",
        "# Exibir os resultados\n",
        "print(\"Quantidade de zeros:\", contagem_zeros)\n",
        "print(\"Quantidade de uns:\", contagem_uns)\n"
      ],
      "metadata": {
        "id": "yR9qgX9G-xHA",
        "colab": {
          "base_uri": "https://localhost:8080/"
        },
        "outputId": "168fac00-656e-4010-910b-73541e222d2b"
      },
      "execution_count": null,
      "outputs": [
        {
          "output_type": "stream",
          "name": "stdout",
          "text": [
            "      leitura\n",
            "0           0\n",
            "1           0\n",
            "2           0\n",
            "3           0\n",
            "4           0\n",
            "...       ...\n",
            "2098        0\n",
            "2099        0\n",
            "2100        1\n",
            "2101        1\n",
            "2102        0\n",
            "\n",
            "[2103 rows x 1 columns]\n",
            "Quantidade de zeros: 860\n",
            "Quantidade de uns: 1243\n"
          ]
        }
      ]
    },
    {
      "cell_type": "code",
      "source": [
        "import pandas as pd\n",
        "\n",
        "\n",
        "\n",
        "#Gasolina banco passageiro\n",
        "gasolinaBancoPassageiro = pd.read_csv(\"gbp.csv\")\n",
        "\n",
        "\n",
        "print(gasolinaBancoPassageiro)\n",
        "\n",
        "\n",
        "# Ler o arquivo CSV\n",
        "gasolinaBancoPassageiro = pd.read_csv(\"gbp.csv\")\n",
        "\n",
        "\n",
        "# Inicializar as contagens de zeros e uns\n",
        "contagem_zeros = 0\n",
        "contagem_uns = 0\n",
        "\n",
        "\n",
        "# Iterar sobre todas as linhas do DataFrame\n",
        "for linha in gasolinaBancoPassageiro.values:\n",
        "    contagem_zeros += linha.tolist().count(0)\n",
        "    contagem_uns += linha.tolist().count(1)\n",
        "\n",
        "\n",
        "# Exibir os resultados\n",
        "print(\"Quantidade de zeros:\", contagem_zeros)\n",
        "print(\"Quantidade de uns:\", contagem_uns)\n"
      ],
      "metadata": {
        "colab": {
          "base_uri": "https://localhost:8080/"
        },
        "id": "fG_QjSSX_vhL",
        "outputId": "fdd51534-be18-45f0-e9d2-c302529d427c"
      },
      "execution_count": null,
      "outputs": [
        {
          "output_type": "stream",
          "name": "stdout",
          "text": [
            "      leitura\n",
            "0           0\n",
            "1           0\n",
            "2           0\n",
            "3           0\n",
            "4           0\n",
            "...       ...\n",
            "2010        1\n",
            "2011        1\n",
            "2012        0\n",
            "2013        1\n",
            "2014        1\n",
            "\n",
            "[2015 rows x 1 columns]\n",
            "Quantidade de zeros: 1052\n",
            "Quantidade de uns: 963\n"
          ]
        }
      ]
    },
    {
      "cell_type": "code",
      "source": [
        "import pandas as pd\n",
        "\n",
        "\n",
        "#Gasolina painel\n",
        "gasolinapainel = pd.read_csv(\"gp.csv\")\n",
        "\n",
        "\n",
        "print(gasolinapainel)\n",
        "\n",
        "\n",
        "# Ler o arquivo CSV\n",
        "gasolinapainel = pd.read_csv(\"gp.csv\")\n",
        "\n",
        "\n",
        "# Inicializar as contagens de zeros e uns\n",
        "contagem_zeros = 0\n",
        "contagem_uns = 0\n",
        "\n",
        "\n",
        "# Iterar sobre todas as linhas do DataFrame\n",
        "for linha in gasolinapainel.values:\n",
        "    contagem_zeros += linha.tolist().count(0)\n",
        "    contagem_uns += linha.tolist().count(1)\n",
        "\n",
        "\n",
        "# Exibir os resultados\n",
        "print(\"Quantidade de zeros:\", contagem_zeros)\n",
        "print(\"Quantidade de uns:\", contagem_uns)"
      ],
      "metadata": {
        "colab": {
          "base_uri": "https://localhost:8080/"
        },
        "id": "BYHg_pqM_z5U",
        "outputId": "f6b5cabd-40a9-4735-d179-df25465477d9"
      },
      "execution_count": null,
      "outputs": [
        {
          "output_type": "stream",
          "name": "stdout",
          "text": [
            "      leitura\n",
            "0           0\n",
            "1           0\n",
            "2           0\n",
            "3           0\n",
            "4           0\n",
            "...       ...\n",
            "2110        1\n",
            "2111        1\n",
            "2112        1\n",
            "2113        1\n",
            "2114        1\n",
            "\n",
            "[2115 rows x 1 columns]\n",
            "Quantidade de zeros: 717\n",
            "Quantidade de uns: 1398\n"
          ]
        }
      ]
    },
    {
      "cell_type": "code",
      "source": [
        "import pandas as pd\n",
        "\n",
        "\n",
        "#Podium banco motorista\n",
        "podiumBancoMotorista = pd.read_csv(\"pbm.csv\")\n",
        "\n",
        "\n",
        "print(podiumBancoMotorista)\n",
        "\n",
        "\n",
        "\n",
        "# Ler o arquivo CSV\n",
        "podiumBancoMotorista = pd.read_csv(\"pbm.csv\")\n",
        "\n",
        "\n",
        "# Inicializar as contagens de zeros e uns\n",
        "contagem_zeros = 0\n",
        "contagem_uns = 0\n",
        "\n",
        "\n",
        "# Iterar sobre todas as linhas do DataFrame\n",
        "for linha in podiumBancoMotorista.values:\n",
        "    contagem_zeros += linha.tolist().count(0)\n",
        "    contagem_uns += linha.tolist().count(1)\n",
        "\n",
        "\n",
        "# Exibir os resultados\n",
        "print(\"Quantidade de zeros:\", contagem_zeros)\n",
        "print(\"Quantidade de uns:\", contagem_uns)"
      ],
      "metadata": {
        "colab": {
          "base_uri": "https://localhost:8080/"
        },
        "id": "_XHHea6TAL_f",
        "outputId": "2495290f-509b-4955-97ee-953c4f072bc3"
      },
      "execution_count": null,
      "outputs": [
        {
          "output_type": "stream",
          "name": "stdout",
          "text": [
            "      leitura\n",
            "0           0\n",
            "1           0\n",
            "2           0\n",
            "3           0\n",
            "4           0\n",
            "...       ...\n",
            "1995        0\n",
            "1996        1\n",
            "1997        1\n",
            "1998        0\n",
            "1999        1\n",
            "\n",
            "[2000 rows x 1 columns]\n",
            "Quantidade de zeros: 447\n",
            "Quantidade de uns: 1553\n"
          ]
        }
      ]
    },
    {
      "cell_type": "code",
      "source": [
        "import pandas as pd\n",
        "\n",
        "\n",
        "#Podium painel 1\n",
        "podiumPainel1 = pd.read_csv(\"pp1.csv\")\n",
        "\n",
        "\n",
        "print(podiumPainel1)\n",
        "\n",
        "\n",
        "\n",
        "# Ler o arquivo CSV\n",
        "podiumPainel1 = pd.read_csv(\"pp1.csv\")\n",
        "\n",
        "\n",
        "# Inicializar as contagens de zeros e uns\n",
        "contagem_zeros = 0\n",
        "contagem_uns = 0\n",
        "\n",
        "\n",
        "# Iterar sobre todas as linhas do DataFrame\n",
        "for linha in podiumPainel1.values:\n",
        "    contagem_zeros += linha.tolist().count(0)\n",
        "    contagem_uns += linha.tolist().count(1)\n",
        "\n",
        "\n",
        "# Exibir os resultados\n",
        "print(\"Quantidade de zeros:\", contagem_zeros)\n",
        "print(\"Quantidade de uns:\", contagem_uns)"
      ],
      "metadata": {
        "colab": {
          "base_uri": "https://localhost:8080/"
        },
        "id": "Nz1rWPAYAYIi",
        "outputId": "9e484a07-de79-42eb-a726-cb11e7c64cf1"
      },
      "execution_count": null,
      "outputs": [
        {
          "output_type": "stream",
          "name": "stdout",
          "text": [
            "      leitura\n",
            "0           0\n",
            "1           0\n",
            "2           0\n",
            "3           1\n",
            "4           0\n",
            "...       ...\n",
            "2200        1\n",
            "2201        1\n",
            "2202        1\n",
            "2203        1\n",
            "2204        1\n",
            "\n",
            "[2205 rows x 1 columns]\n",
            "Quantidade de zeros: 767\n",
            "Quantidade de uns: 1438\n"
          ]
        }
      ]
    },
    {
      "cell_type": "code",
      "source": [
        "import pandas as pd\n",
        "\n",
        "\n",
        "#Podium painel 2\n",
        "podiumPainel2 = pd.read_csv(\"pp2.csv\")\n",
        "\n",
        "\n",
        "print(podiumPainel2)\n",
        "\n",
        "\n",
        "# Ler o arquivo CSV\n",
        "podiumPainel2 = pd.read_csv(\"pp2.csv\")\n",
        "\n",
        "\n",
        "# Inicializar as contagens de zeros e uns\n",
        "contagem_zeros = 0\n",
        "contagem_uns = 0\n",
        "\n",
        "\n",
        "# Iterar sobre todas as linhas do DataFrame\n",
        "for linha in podiumPainel2.values:\n",
        "    contagem_zeros += linha.tolist().count(0)\n",
        "    contagem_uns += linha.tolist().count(1)\n",
        "\n",
        "\n",
        "# Exibir os resultados\n",
        "print(\"Quantidade de zeros:\", contagem_zeros)\n",
        "print(\"Quantidade de uns:\", contagem_uns)"
      ],
      "metadata": {
        "colab": {
          "base_uri": "https://localhost:8080/"
        },
        "id": "PTY1grKkApcV",
        "outputId": "2d2b31eb-00b0-4b39-ead4-580e6cfba6e6"
      },
      "execution_count": null,
      "outputs": [
        {
          "output_type": "stream",
          "name": "stdout",
          "text": [
            "      leitura\n",
            "0           0\n",
            "1           0\n",
            "2           0\n",
            "3           0\n",
            "4           0\n",
            "...       ...\n",
            "2391        1\n",
            "2392        1\n",
            "2393        0\n",
            "2394        1\n",
            "2395        0\n",
            "\n",
            "[2396 rows x 1 columns]\n",
            "Quantidade de zeros: 1545\n",
            "Quantidade de uns: 851\n"
          ]
        }
      ]
    },
    {
      "cell_type": "code",
      "source": [
        "import pandas as pd\n",
        "\n",
        "\n",
        "#Gasolina banco motorista\n",
        "podiumBancoPassageiro = pd.read_csv(\"pbp.csv\")\n",
        "\n",
        "\n",
        "print(podiumBancoPassageiro)\n",
        "\n",
        "\n",
        "\n",
        "# Ler o arquivo CSV\n",
        "podiumBancoPassageiro = pd.read_csv(\"pbp.csv\")\n",
        "\n",
        "\n",
        "# Inicializar as contagens de zeros e uns\n",
        "contagem_zeros = 0\n",
        "contagem_uns = 0\n",
        "\n",
        "\n",
        "# Iterar sobre todas as linhas do DataFrame\n",
        "for linha in podiumBancoPassageiro.values:\n",
        "    contagem_zeros += linha.tolist().count(0)\n",
        "    contagem_uns += linha.tolist().count(1)\n",
        "\n",
        "\n",
        "# Exibir os resultados\n",
        "print(\"Quantidade de zeros:\", contagem_zeros)\n",
        "print(\"Quantidade de uns:\", contagem_uns)"
      ],
      "metadata": {
        "id": "7gwSUfirFR6z",
        "outputId": "5c0b8426-0c54-425d-80a0-8ee1ce51d9a2",
        "colab": {
          "base_uri": "https://localhost:8080/"
        }
      },
      "execution_count": null,
      "outputs": [
        {
          "output_type": "stream",
          "name": "stdout",
          "text": [
            "      leitura\n",
            "0           0\n",
            "1           0\n",
            "2           0\n",
            "3           0\n",
            "4           0\n",
            "...       ...\n",
            "1550        1\n",
            "1551        1\n",
            "1552        1\n",
            "1553        1\n",
            "1554        0\n",
            "\n",
            "[1555 rows x 1 columns]\n",
            "Quantidade de zeros: 606\n",
            "Quantidade de uns: 949\n"
          ]
        }
      ]
    }
  ]
}