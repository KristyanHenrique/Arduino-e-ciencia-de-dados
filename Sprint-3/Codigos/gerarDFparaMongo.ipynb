{
 "cells": [
  {
   "cell_type": "code",
   "execution_count": 1,
   "id": "bb03d9a4",
   "metadata": {},
   "outputs": [],
   "source": [
    "import pandas as pd"
   ]
  },
  {
   "cell_type": "code",
   "execution_count": 2,
   "id": "dcf30295",
   "metadata": {},
   "outputs": [],
   "source": [
    "gbm = pd.read_csv(\"C:/Users/krist/OneDrive/Documents/GitHub/pratica-integrada-icd-e-idc-2023-1-g4-amrk/Sprint-2/CSV/gen1/gbm.csv\")\n",
    "gbp = pd.read_csv(\"C:/Users/krist/OneDrive/Documents/GitHub/pratica-integrada-icd-e-idc-2023-1-g4-amrk/Sprint-2/CSV/gen1/gbp.csv\")\n",
    "gp = pd.read_csv(\"C:/Users/krist/OneDrive/Documents/GitHub/pratica-integrada-icd-e-idc-2023-1-g4-amrk/Sprint-2/CSV/gen1/gp.csv\")\n",
    "pbm = pd.read_csv(\"C:/Users/krist/OneDrive/Documents/GitHub/pratica-integrada-icd-e-idc-2023-1-g4-amrk/Sprint-2/CSV/gen1/pbm.csv\")\n",
    "pbp = pd.read_csv(\"C:/Users/krist/OneDrive/Documents/GitHub/pratica-integrada-icd-e-idc-2023-1-g4-amrk/Sprint-2/CSV/gen1/pbp.csv\")\n",
    "pp2 = pd.read_csv(\"C:/Users/krist/OneDrive/Documents/GitHub/pratica-integrada-icd-e-idc-2023-1-g4-amrk/Sprint-2/CSV/gen1/pp2.csv\")"
   ]
  },
  {
   "cell_type": "code",
   "execution_count": 3,
   "id": "99d63a4d",
   "metadata": {},
   "outputs": [],
   "source": [
    "def addLocalCombustivelTeste(df,local,combustivel):#adiciona uma coluna que indica a posição e o combustivel usado no teste\n",
    "    df[\"local\"]=local\n",
    "    df[\"combustivel\"]=combustivel\n",
    "    return df"
   ]
  },
  {
   "cell_type": "code",
   "execution_count": 4,
   "id": "7dfb9abd",
   "metadata": {},
   "outputs": [],
   "source": [
    "gbm = addLocalCombustivelTeste(gbm,\"Banco do Motorista\",\"Gasolina\")\n",
    "gbp = addLocalCombustivelTeste(gbp,\"Banco do Passageiro\",\"Gasolina\")\n",
    "gp = addLocalCombustivelTeste(gp,\"Painel\",\"Gasolina\")\n",
    "pbm = addLocalCombustivelTeste(pbm,\"Banco do Motorista\",\"Podium\")\n",
    "pbp = addLocalCombustivelTeste(pbp,\"Banco do Passageiro\",\"Podium\")\n",
    "pp2 = addLocalCombustivelTeste(pp2,\"Painel\",\"Podium\")"
   ]
  },
  {
   "cell_type": "code",
   "execution_count": 5,
   "id": "620a248e",
   "metadata": {},
   "outputs": [],
   "source": [
    "final = pd.concat([gbm,gbp,gp,pbm,pbp,pp2], ignore_index=True, axis=0)\n",
    "final = final.rename_axis('Id')"
   ]
  },
  {
   "cell_type": "code",
   "execution_count": 6,
   "id": "cdce6399",
   "metadata": {},
   "outputs": [],
   "source": [
    "final.to_csv(\"C:/Users/krist/OneDrive/Documents/GitHub/pratica-integrada-icd-e-idc-2023-1-g4-amrk/Sprint-3/CSV/mongo.csv\")\n"
   ]
  }
 ],
 "metadata": {
  "kernelspec": {
   "display_name": "Python 3 (ipykernel)",
   "language": "python",
   "name": "python3"
  },
  "language_info": {
   "codemirror_mode": {
    "name": "ipython",
    "version": 3
   },
   "file_extension": ".py",
   "mimetype": "text/x-python",
   "name": "python",
   "nbconvert_exporter": "python",
   "pygments_lexer": "ipython3",
   "version": "3.10.10"
  }
 },
 "nbformat": 4,
 "nbformat_minor": 5
}
