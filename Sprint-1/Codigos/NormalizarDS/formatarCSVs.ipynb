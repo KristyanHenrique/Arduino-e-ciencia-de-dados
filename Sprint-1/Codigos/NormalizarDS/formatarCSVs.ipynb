{
 "cells": [
  {
   "cell_type": "code",
   "execution_count": 2,
   "id": "88e8eb9b",
   "metadata": {},
   "outputs": [],
   "source": [
    "import pandas as pd"
   ]
  },
  {
   "cell_type": "code",
   "execution_count": 68,
   "id": "d9492750",
   "metadata": {},
   "outputs": [],
   "source": [
    "gbm = open(r\"C:\\Users\\krist\\Downloads\\Gasolina_banco_motorista.csv\",'r')\n",
    "gbm = gbm.read()\n",
    "gbp = open(r\"C:\\Users\\krist\\Downloads\\Gasolina_banco_passageiro.csv\",'r')\n",
    "gbp = gbp.read()\n",
    "gp = open(r\"C:\\Users\\krist\\Downloads\\Gasolina_painel (1).csv\",'r')\n",
    "gp = gp.read() \n",
    "pbm = open(r\"C:\\Users\\krist\\Downloads\\Podium_banco_motorista.csv\",'r')\n",
    "pbm = pbm.read()\n",
    "pbp = open(r\"C:\\Users\\krist\\Downloads\\Podium_banco_passageiro.csv\",'r')\n",
    "pbp = pbp.read()\n",
    "pp1 = open(r\"C:\\Users\\krist\\Downloads\\Podium_painel.1.csv\",'r')\n",
    "pp1 = pp1.read()\n",
    "pp2 = open(r\"C:\\Users\\krist\\Downloads\\Podium_painel.2.csv\",'r')\n",
    "pp2 = pp2.read()"
   ]
  },
  {
   "cell_type": "code",
   "execution_count": 27,
   "id": "2011e3c1",
   "metadata": {},
   "outputs": [],
   "source": [
    "def transformarEmLista(file):\n",
    "    lista = []\n",
    "    for i in range(len(file)):\n",
    "        lista.append(file[i])\n",
    "    return lista"
   ]
  },
  {
   "cell_type": "code",
   "execution_count": 50,
   "id": "b977bd9f",
   "metadata": {},
   "outputs": [],
   "source": [
    "def transformarEmDF(lista):\n",
    "    df = pd.DataFrame(lista, columns=['leitura'])\n",
    "    df.set_index(['leitura'], inplace=True)\n",
    "    return df"
   ]
  },
  {
   "cell_type": "code",
   "execution_count": 64,
   "id": "e62a2b43",
   "metadata": {},
   "outputs": [],
   "source": [
    "def transformarEmCSV(df,nome):\n",
    "    path = \"C:\\\\Users\\\\krist\\\\Downloads\\\\formatados\\\\\"+nome+\".csv\"\n",
    "    df.to_csv(path) "
   ]
  },
  {
   "cell_type": "code",
   "execution_count": 69,
   "id": "b99e58be",
   "metadata": {},
   "outputs": [],
   "source": [
    "gbm = transformarEmLista(gbm)\n",
    "gbp = transformarEmLista(gbp)\n",
    "gp = transformarEmLista(gp)\n",
    "pbm = transformarEmLista(pbm)\n",
    "pbp = transformarEmLista(pbp)\n",
    "pp1 = transformarEmLista(pp1)\n",
    "pp2 = transformarEmLista(pp2)"
   ]
  },
  {
   "cell_type": "code",
   "execution_count": 70,
   "id": "419b3532",
   "metadata": {},
   "outputs": [],
   "source": [
    "gbm = transformarEmDF(gbm)\n",
    "gbp = transformarEmDF(gbp)\n",
    "gp = transformarEmDF(gp)\n",
    "pbm = transformarEmDF(pbm)\n",
    "pbp = transformarEmDF(pbp)\n",
    "pp1 = transformarEmDF(pp1)\n",
    "pp2 = transformarEmDF(pp2)"
   ]
  }
 ],
 "metadata": {
  "kernelspec": {
   "display_name": "Python 3 (ipykernel)",
   "language": "python",
   "name": "python3"
  },
  "language_info": {
   "codemirror_mode": {
    "name": "ipython",
    "version": 3
   },
   "file_extension": ".py",
   "mimetype": "text/x-python",
   "name": "python",
   "nbconvert_exporter": "python",
   "pygments_lexer": "ipython3",
   "version": "3.10.10"
  }
 },
 "nbformat": 4,
 "nbformat_minor": 5
}
